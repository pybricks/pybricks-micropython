{
 "cells": [
  {
   "cell_type": "markdown",
   "id": "10af584e",
   "metadata": {},
   "source": [
    "## Venv example"
   ]
  },
  {
   "cell_type": "code",
   "execution_count": null,
   "id": "a8ecd367",
   "metadata": {},
   "outputs": [],
   "source": [
    "# Pybricksdev and pybricks api stubs are available.\n",
    "from pybricks.parameters import Color\n",
    "\n",
    "print(Color.YELLOW)"
   ]
  },
  {
   "cell_type": "markdown",
   "id": "424acae4",
   "metadata": {},
   "source": [
    "## Plot example"
   ]
  },
  {
   "cell_type": "code",
   "execution_count": null,
   "id": "f0f1bfce",
   "metadata": {},
   "outputs": [],
   "source": [
    "import numpy\n",
    "import matplotlib.pyplot\n",
    "\n",
    "# Make some data.\n",
    "time = numpy.array([t / 10 for t in range(0, 10, 1)])\n",
    "speed = time * 0.8\n",
    "other = time * time\n",
    "more = 1 - time\n",
    "\n",
    "# Get two axes in one figure.\n",
    "figure, axes = matplotlib.pyplot.subplots(nrows=1, ncols=2, figsize=(15, 5))\n",
    "speed_axis, other_axis = axes\n",
    "\n",
    "# Plot the data.\n",
    "speed_axis.plot(time, speed, label=\"Continuous\")\n",
    "speed_axis.plot(time, speed, drawstyle=\"steps-post\", label=\"Steps\")\n",
    "speed_axis.set_ylabel(\"Speed\")\n",
    "\n",
    "# Plot data on the other plot.\n",
    "other_axis.plot(time, speed, label=\"Up\")\n",
    "other_axis.plot(time, other, label=\"Ramp\")\n",
    "other_axis.plot(time, more, label=\"Down\")\n",
    "\n",
    "# Show grid, legend, and fix bounds.\n",
    "for axis in axes:\n",
    "    axis.grid(True)\n",
    "    axis.legend()\n",
    "    axis.set_xlim(time[0], time[-1])\n",
    "    axis.set_xlabel(\"time (ms)\")"
   ]
  },
  {
   "cell_type": "code",
   "execution_count": null,
   "id": "8eeb615a",
   "metadata": {},
   "outputs": [],
   "source": []
  }
 ],
 "metadata": {
  "kernelspec": {
   "display_name": "Python 3 (ipykernel)",
   "language": "python",
   "name": "python3"
  },
  "language_info": {
   "codemirror_mode": {
    "name": "ipython",
    "version": 3
   },
   "file_extension": ".py",
   "mimetype": "text/x-python",
   "name": "python",
   "nbconvert_exporter": "python",
   "pygments_lexer": "ipython3",
   "version": "3.10.4"
  }
 },
 "nbformat": 4,
 "nbformat_minor": 5
}
