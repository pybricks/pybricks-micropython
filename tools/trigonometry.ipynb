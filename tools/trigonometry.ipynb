{
 "cells": [
  {
   "cell_type": "markdown",
   "id": "ba778b2b",
   "metadata": {},
   "source": [
    "## Approximating atan2"
   ]
  },
  {
   "cell_type": "code",
   "execution_count": null,
   "id": "0abbd703",
   "metadata": {},
   "outputs": [],
   "source": [
    "import math\n",
    "import numpy\n",
    "import matplotlib.pyplot"
   ]
  },
  {
   "cell_type": "code",
   "execution_count": null,
   "id": "8715f0bc",
   "metadata": {},
   "outputs": [],
   "source": [
    "px = numpy.array([0, 0.40, 0.95, 1.60, 2.50, 3.8, 5.00, 7.00, 15, 25])\n",
    "py = numpy.array([0, 0.39, 0.76, 1.03, 1.19, 1.32, 1.38, 1.44, 1.51, 1.54])\n",
    "\n",
    "for x, y in zip(px, py):\n",
    "    print(f\"    {{ .x = {int(x * 1024)}, .y = {int(y * 180 / numpy.pi * 8)} }},\")\n",
    "\n",
    "\n",
    "# Python implementation of pbio_int_math_atan2_positive.\n",
    "def atan_single_pos(y, x):\n",
    "    ratio = abs(y / x)\n",
    "    for i in range(len(px) - 1):\n",
    "        if ratio < px[i + 1]:\n",
    "            return py[i] + (ratio - px[i]) * (py[i + 1] - py[i]) / (px[i + 1] - px[i])\n",
    "    return py[-1]\n",
    "\n",
    "\n",
    "# Python implementation of pbio_int_math_atan2.\n",
    "def atan2_single(y, x):\n",
    "    atan = atan_single_pos(abs(y), abs(x))\n",
    "    if (x > 0 and y < 0) or (x < 0 and y > 0):\n",
    "        atan *= -1\n",
    "    if x > 0:\n",
    "        return atan\n",
    "    if atan > 0:\n",
    "        return atan - numpy.pi\n",
    "    else:\n",
    "        return atan + numpy.pi\n",
    "\n",
    "\n",
    "# Numpy-like variant that can deal with arrays.\n",
    "def atan2(y, x):\n",
    "    return numpy.array([atan2_single(b, a) for b, a in zip(y, x)])\n",
    "\n",
    "\n",
    "# Get two axes in one figure.\n",
    "figure, axes = matplotlib.pyplot.subplots(nrows=1, ncols=2, figsize=(20, 10))\n",
    "atan_axis, error_axis = axes\n",
    "\n",
    "ratios = numpy.linspace(-40, 40, num=10000)\n",
    "atan_real = numpy.arctan(ratios)\n",
    "atan_appr = numpy.array([atan2_single(r, 1) for r in ratios])\n",
    "\n",
    "# Plot the atan data.\n",
    "atan_axis.plot(ratios, atan_real, label=\"Real\")\n",
    "atan_axis.plot(ratios, atan_appr, label=\"Approximation\")\n",
    "atan_axis.plot(px, py, label=\"points\", marker=\"o\")\n",
    "atan_axis.set_ylabel(\"atan (rad)\")\n",
    "\n",
    "# Plot error data\n",
    "error_axis.plot(ratios, numpy.degrees(atan_appr - atan_real), label=\"Error\")\n",
    "error_axis.set_ylabel(\"Error (deg)\")\n",
    "\n",
    "# Show grid, legend, and fix bounds.\n",
    "for axis in (atan_axis, error_axis):\n",
    "    axis.grid(True)\n",
    "    axis.legend()\n",
    "    axis.set_xlim(-20, 20)\n",
    "    axis.set_ylim(-2, 2)\n",
    "    axis.set_xlabel(\"ratio (y/x)\")"
   ]
  },
  {
   "cell_type": "markdown",
   "id": "94464c30",
   "metadata": {},
   "source": [
    "## Atan2 tilt error"
   ]
  },
  {
   "cell_type": "code",
   "execution_count": null,
   "id": "f3152cd4",
   "metadata": {},
   "outputs": [],
   "source": [
    "# Sample data for full roll turn\n",
    "angle = numpy.linspace(-numpy.pi, numpy.pi, num=1000)\n",
    "angle_deg = numpy.degrees(angle)\n",
    "accel_z = 9810 * numpy.cos(angle)\n",
    "accel_y = 9810 * numpy.sin(angle)\n",
    "\n",
    "# Result if atan2 is available.\n",
    "roll = numpy.degrees(numpy.arctan2(accel_y, accel_z))\n",
    "roll_simple = numpy.degrees(atan2(accel_y, accel_z))\n",
    "\n",
    "# Get two axes in one figure.\n",
    "figure, (angle_axis, error_axis) = matplotlib.pyplot.subplots(\n",
    "    nrows=1, ncols=2, figsize=(15, 10)\n",
    ")\n",
    "\n",
    "# Plot angle data\n",
    "angle_axis.plot(angle_deg, roll, label=\"roll via atan2\")\n",
    "angle_axis.plot(angle_deg, roll_simple, label=\"roll approximation\")\n",
    "\n",
    "# Plot angle data\n",
    "error_axis.plot(angle_deg, roll - roll_simple, label=\"Error (deg)\")\n",
    "error_axis.set_ylim(-3, 3)\n",
    "\n",
    "# Show grid, legend, and fix bounds.\n",
    "for axis in (angle_axis, error_axis):\n",
    "    axis.grid(True)\n",
    "    axis.legend()\n",
    "    axis.set_xlim(angle_deg[0], angle_deg[-1])\n",
    "    axis.set_xlabel(\"Angle\")"
   ]
  },
  {
   "cell_type": "code",
   "execution_count": null,
   "id": "2e24b040",
   "metadata": {},
   "outputs": [],
   "source": []
  }
 ],
 "metadata": {
  "kernelspec": {
   "display_name": "Python 3 (ipykernel)",
   "language": "python",
   "name": "python3"
  },
  "language_info": {
   "codemirror_mode": {
    "name": "ipython",
    "version": 3
   },
   "file_extension": ".py",
   "mimetype": "text/x-python",
   "name": "python",
   "nbconvert_exporter": "python",
   "pygments_lexer": "ipython3",
   "version": "3.10.4"
  }
 },
 "nbformat": 4,
 "nbformat_minor": 5
}
